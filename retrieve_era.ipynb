{
 "cells": [
  {
   "cell_type": "code",
   "execution_count": null,
   "metadata": {},
   "outputs": [
    {
     "name": "stdout",
     "output_type": "stream",
     "text": [
      "2021-03-30 21:20:44 ECMWF API python library 1.6.1\n",
      "2021-03-30 21:20:44 ECMWF API at https://api.ecmwf.int/v1\n",
      "2021-03-30 21:20:44 Welcome Nic Annau\n",
      "2021-03-30 21:20:46 In case of problems, please check https://confluence.ecmwf.int/display/WEBAPI/Web+API+FAQ or contact servicedesk@ecmwf.int\n",
      "2021-03-30 21:20:47 Request submitted\n",
      "2021-03-30 21:20:47 Request id: 6063f89f94b5c2b2ecb84d1c\n",
      "2021-03-30 21:20:47 Request is submitted\n",
      "2021-03-30 21:20:49 Request is queued\n",
      "2021-03-30 21:20:55 Request is active\n"
     ]
    }
   ],
   "source": [
    "from ecmwfapi import ECMWFDataServer\n",
    "    \n",
    "# server = ECMWFDataServer()\n",
    "    \n",
    "# server.retrieve({\n",
    "#     'stream'    : \"oper\",\n",
    "#     'levtype'   : \"sfc\",\n",
    "#     #               U,       V\n",
    "#     'param'     : \"166.128/167.128\",\n",
    "#     'dataset'   : \"interim\",\n",
    "#     'step'      : \"0\",\n",
    "#     'grid'      : \"0.75/0.75\",\n",
    "#     'time'      : \"00/06/12/18\",\n",
    "# #     'date'      : \"2000-10-01/to/2013-09-30\",\n",
    "#     'date'      : \"2000-10-01/to/2005-09-30\",\n",
    "#     'type'      : \"an\",\n",
    "#     'class'     : \"ei\",\n",
    "#     'format'    : \"netcdf\",\n",
    "#     'target'    : \"../data/interim_2014-07-01to2014-07-31_00061218.nc\"\n",
    "#  })\n",
    "\n",
    "\n",
    "#!/usr/bin/env python\n",
    "from ecmwfapi import ECMWFDataServer\n",
    "    \n",
    "server = ECMWFDataServer()\n",
    "    \n",
    "server.retrieve({\n",
    "    'stream'    : \"oper\",\n",
    "    'levtype'   : \"sfc\",\n",
    "    'param'     : \"166.128/167.128\",\n",
    "    'dataset'   : \"interim\",\n",
    "    'step'      : \"0\",\n",
    "    'grid'      : \"0.75/0.75\",\n",
    "    'time'      : \"00/06/12/18\",\n",
    "    'date'      : \"2000-10-01/to/2013-09-30\",\n",
    "    'type'      : \"an\",\n",
    "    'class'     : \"ei\",\n",
    "    'area'      : \"18.13629150390625/57.91813278198242/-56.9451904296875/-139.0548095703125\",\n",
    "    'format'    : \"netcdf\",\n",
    "    'target'    : \"interim_2014-07-01to2014-07-31_00061218.nc\"\n",
    " })"
   ]
  },
  {
   "cell_type": "code",
   "execution_count": null,
   "metadata": {},
   "outputs": [],
   "source": []
  }
 ],
 "metadata": {
  "kernelspec": {
   "display_name": "Python 3",
   "language": "python",
   "name": "python3"
  },
  "language_info": {
   "codemirror_mode": {
    "name": "ipython",
    "version": 3
   },
   "file_extension": ".py",
   "mimetype": "text/x-python",
   "name": "python",
   "nbconvert_exporter": "python",
   "pygments_lexer": "ipython3",
   "version": "3.7.9"
  }
 },
 "nbformat": 4,
 "nbformat_minor": 4
}
